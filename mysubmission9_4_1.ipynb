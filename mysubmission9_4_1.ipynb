{
    "cells": [
        {
            "cell_type": "markdown",
            "metadata": {
                "collapsed": true
            },
            "source": "# 1.INTRODUCTION"
        },
        {
            "cell_type": "markdown",
            "metadata": {},
            "source": "### 1.1 Background"
        },
        {
            "cell_type": "markdown",
            "metadata": {},
            "source": "The Average american moves 11 times in a life time.This Brings us to Question :Do people move until they find a place to settle down where they feel /happy,or do our wants and needs change over time and promote us to eventually leave a town we once called home for a new area that will bring us satisfaction? or do we move often move to the new area with out knowing exactly what we are getting into?"
        },
        {
            "cell_type": "markdown",
            "metadata": {},
            "source": "To minimize the chances of happening,we should always do a proper researsh when planning our next move in life. consider the following factors when picking a new place to live so you don't end up wasting your valuable time and money making a move will end up regretting .saftey is major concern when moving to a new place"
        },
        {
            "cell_type": "markdown",
            "metadata": {},
            "source": "## 1.2 PROBLEM"
        },
        {
            "cell_type": "markdown",
            "metadata": {},
            "source": "The crime stastics dataset of london found on kaggle has crimes in each broughs of london from 2008 to 2016 being the latest we would consider the data of that year which is old information now.the crime rates may be changed now.\n\nThis project aims to select some the safest brough in london based on total crimes , explore the neighbour hoods of that brough to find the 10 most common venues in each neighbourhood and finally cluster the neighbour hood "
        },
        {
            "cell_type": "markdown",
            "metadata": {},
            "source": "## 1.3 INTEREST\nExpats who are considering to relocate to london will be intersted to identify the safest brogh in london and explore its neighbourhoods and veneus around each neighbourhood."
        },
        {
            "cell_type": "code",
            "execution_count": null,
            "metadata": {},
            "outputs": [],
            "source": ""
        }
    ],
    "metadata": {
        "kernelspec": {
            "display_name": "Python 3.6",
            "language": "python",
            "name": "python3"
        },
        "language_info": {
            "codemirror_mode": {
                "name": "ipython",
                "version": 3
            },
            "file_extension": ".py",
            "mimetype": "text/x-python",
            "name": "python",
            "nbconvert_exporter": "python",
            "pygments_lexer": "ipython3",
            "version": "3.6.9"
        }
    },
    "nbformat": 4,
    "nbformat_minor": 1
}